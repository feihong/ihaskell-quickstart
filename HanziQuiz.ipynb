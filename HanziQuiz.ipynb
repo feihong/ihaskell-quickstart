{
 "cells": [
  {
   "cell_type": "markdown",
   "metadata": {},
   "source": [
    "# Todo\n",
    "\n",
    "- Download tarball listed at https://www.mdbg.net/chinese/dictionary?page=cedict\n",
    "- Extract tarball\n",
    "- List all lines of text\n",
    "- Parse all lines of text into records\n",
    "- Show some random records\n",
    "- Load records into database\n",
    "- Create module that contains all the functions you need\n",
    "- Small programs\n",
    "  - Quiz, type correct character based on definition\n",
    "  - Quiz, type correct pinyin based on character\n",
    "  - Quiz, type correct characters based on pinyin"
   ]
  },
  {
   "cell_type": "code",
   "execution_count": 1,
   "metadata": {},
   "outputs": [],
   "source": [
    ":ext OverloadedStrings"
   ]
  },
  {
   "cell_type": "code",
   "execution_count": 2,
   "metadata": {},
   "outputs": [
    {
     "data": {
      "text/plain": [
       "这是我的文件！"
      ]
     },
     "metadata": {},
     "output_type": "display_data"
    }
   ],
   "source": [
    "import System.IO\n",
    "\n",
    "-- do\n",
    "--   handle <- openFile \"test.txt\" WriteMode\n",
    "--   hPutStrLn handle \"这是我的文件！\"\n",
    "--   hClose handle\n",
    "  \n",
    "do \n",
    "  handle <- openFile \"test.txt\" ReadMode\n",
    "  line <- hGetLine handle\n",
    "  putStrLn line\n",
    "  hClose handle"
   ]
  },
  {
   "cell_type": "code",
   "execution_count": 5,
   "metadata": {},
   "outputs": [
    {
     "data": {
      "text/html": [
       "<style>/* Styles used for the Hoogle display in the pager */\n",
       ".hoogle-doc {\n",
       "display: block;\n",
       "padding-bottom: 1.3em;\n",
       "padding-left: 0.4em;\n",
       "}\n",
       ".hoogle-code {\n",
       "display: block;\n",
       "font-family: monospace;\n",
       "white-space: pre;\n",
       "}\n",
       ".hoogle-text {\n",
       "display: block;\n",
       "}\n",
       ".hoogle-name {\n",
       "color: green;\n",
       "font-weight: bold;\n",
       "}\n",
       ".hoogle-head {\n",
       "font-weight: bold;\n",
       "}\n",
       ".hoogle-sub {\n",
       "display: block;\n",
       "margin-left: 0.4em;\n",
       "}\n",
       ".hoogle-package {\n",
       "font-weight: bold;\n",
       "font-style: italic;\n",
       "}\n",
       ".hoogle-module {\n",
       "font-weight: bold;\n",
       "}\n",
       ".hoogle-class {\n",
       "font-weight: bold;\n",
       "}\n",
       ".get-type {\n",
       "color: green;\n",
       "font-weight: bold;\n",
       "font-family: monospace;\n",
       "display: block;\n",
       "white-space: pre-wrap;\n",
       "}\n",
       ".show-type {\n",
       "color: green;\n",
       "font-weight: bold;\n",
       "font-family: monospace;\n",
       "margin-left: 1em;\n",
       "}\n",
       ".mono {\n",
       "font-family: monospace;\n",
       "display: block;\n",
       "}\n",
       ".err-msg {\n",
       "color: red;\n",
       "font-style: italic;\n",
       "font-family: monospace;\n",
       "white-space: pre;\n",
       "display: block;\n",
       "}\n",
       "#unshowable {\n",
       "color: red;\n",
       "font-weight: bold;\n",
       "}\n",
       ".err-msg.in.collapse {\n",
       "padding-top: 0.7em;\n",
       "}\n",
       ".highlight-code {\n",
       "white-space: pre;\n",
       "font-family: monospace;\n",
       "}\n",
       ".suggestion-warning { \n",
       "font-weight: bold;\n",
       "color: rgb(200, 130, 0);\n",
       "}\n",
       ".suggestion-error { \n",
       "font-weight: bold;\n",
       "color: red;\n",
       "}\n",
       ".suggestion-name {\n",
       "font-weight: bold;\n",
       "}\n",
       "</style><span class='get-type'>r ^. responseBody :: ByteString</span>"
      ],
      "text/plain": [
       "r ^. responseBody :: ByteString"
      ]
     },
     "metadata": {},
     "output_type": "display_data"
    },
    {
     "data": {
      "text/plain": [
       "{\n",
       "  \"args\": {}, \n",
       "  \"headers\": {\n",
       "    \"Accept-Encoding\": \"gzip\", \n",
       "    \"Host\": \"httpbin.org\", \n",
       "    \"User-Agent\": \"haskell wreq-0.5.3.2\"\n",
       "  }, \n",
       "  \"origin\": \"61.8.213.18, 61.8.213.18\", \n",
       "  \"url\": \"https://httpbin.org/get\"\n",
       "}"
      ]
     },
     "metadata": {},
     "output_type": "display_data"
    }
   ],
   "source": [
    "import Network.Wreq\n",
    "import Control.Lens\n",
    "import qualified Data.ByteString.Lazy.Char8 as C\n",
    "\n",
    "r <- get \"http://httpbin.org/get\"\n",
    ":t r ^. responseBody\n",
    "C.putStrLn $ r ^. responseBody"
   ]
  },
  {
   "cell_type": "code",
   "execution_count": null,
   "metadata": {},
   "outputs": [],
   "source": [
    "url = \"https://www.mdbg.net/chinese/export/cedict/cedict_1_0_ts_utf-8_mdbg.txt.gz\"\n",
    "-- crashing the kernel\n",
    "do \n",
    "  r <- get url\n",
    "  putStrLn \"done\"\n",
    "\n",
    "-- do\n",
    "--   r <- get url\n",
    "--   print $ r ^. responseBody\n",
    "--   B.writeFile \"cedict.gz\" $ r ^. responseBody  "
   ]
  }
 ],
 "metadata": {
  "kernelspec": {
   "display_name": "Haskell",
   "language": "haskell",
   "name": "haskell"
  },
  "language_info": {
   "codemirror_mode": "ihaskell",
   "file_extension": ".hs",
   "name": "haskell",
   "pygments_lexer": "Haskell",
   "version": "8.6.5"
  }
 },
 "nbformat": 4,
 "nbformat_minor": 4
}
