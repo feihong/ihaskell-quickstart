{
 "cells": [
  {
   "cell_type": "markdown",
   "metadata": {},
   "source": [
    "# Todo\n",
    "\n",
    "- Download tarball listed at https://www.mdbg.net/chinese/dictionary?page=cedict\n",
    "- Extract tarball\n",
    "- List all lines of text\n",
    "- Parse all lines of text into records\n",
    "- Show some random records\n",
    "- Load records into database\n",
    "- Create module that contains all the functions you need\n",
    "- Small programs\n",
    "  - Quiz, type correct character based on definition\n",
    "  - Quiz, type correct pinyin based on character\n",
    "  - Quiz, type correct characters based on pinyin"
   ]
  },
  {
   "cell_type": "code",
   "execution_count": 8,
   "metadata": {},
   "outputs": [
    {
     "data": {
      "text/plain": [
       "这是我的文件！"
      ]
     },
     "metadata": {},
     "output_type": "display_data"
    }
   ],
   "source": [
    "import System.IO\n",
    "\n",
    "-- do\n",
    "--   handle <- openFile \"test.txt\" WriteMode\n",
    "--   hPutStrLn handle \"这是我的文件！\"\n",
    "--   hClose handle\n",
    "  \n",
    "do \n",
    "  handle <- openFile \"test.txt\" ReadMode\n",
    "  line <- hGetLine handle\n",
    "  putStrLn line\n",
    "  hClose handle"
   ]
  },
  {
   "cell_type": "code",
   "execution_count": null,
   "metadata": {},
   "outputs": [],
   "source": [
    ":!stack install wreq"
   ]
  }
 ],
 "metadata": {
  "kernelspec": {
   "display_name": "Haskell",
   "language": "haskell",
   "name": "haskell"
  },
  "language_info": {
   "codemirror_mode": "ihaskell",
   "file_extension": ".hs",
   "name": "haskell",
   "pygments_lexer": "Haskell",
   "version": "8.6.5"
  }
 },
 "nbformat": 4,
 "nbformat_minor": 4
}
