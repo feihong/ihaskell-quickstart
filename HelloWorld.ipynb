{
 "cells": [
  {
   "cell_type": "code",
   "execution_count": 2,
   "metadata": {},
   "outputs": [],
   "source": [
    ":ext OverloadedStrings"
   ]
  },
  {
   "cell_type": "code",
   "execution_count": 3,
   "metadata": {},
   "outputs": [
    {
     "data": {
      "text/plain": [
       "\"\\20320\\22909\\19990\\30028\\65281\""
      ]
     },
     "metadata": {},
     "output_type": "display_data"
    }
   ],
   "source": [
    "-- Will print code points instead of actual glyphs\n",
    "print \"你好世界！\""
   ]
  },
  {
   "cell_type": "code",
   "execution_count": 4,
   "metadata": {},
   "outputs": [
    {
     "data": {
      "text/plain": [
       "你好世界！"
      ]
     },
     "metadata": {},
     "output_type": "display_data"
    }
   ],
   "source": [
    "putStrLn \"你好世界！\""
   ]
  },
  {
   "cell_type": "code",
   "execution_count": 5,
   "metadata": {},
   "outputs": [
    {
     "data": {
      "text/plain": [
       "再见宇宙！\n",
       "开玩笑的"
      ]
     },
     "metadata": {},
     "output_type": "display_data"
    }
   ],
   "source": [
    "do\n",
    "  putStrLn \"再见宇宙！\"\n",
    "  putStrLn \"开玩笑的\""
   ]
  },
  {
   "cell_type": "code",
   "execution_count": 6,
   "metadata": {},
   "outputs": [],
   "source": [
    "import Data.Char"
   ]
  },
  {
   "cell_type": "code",
   "execution_count": 7,
   "metadata": {},
   "outputs": [
    {
     "data": {
      "text/plain": [
       "25105"
      ]
     },
     "metadata": {},
     "output_type": "display_data"
    }
   ],
   "source": [
    "ord '我'"
   ]
  },
  {
   "cell_type": "code",
   "execution_count": 8,
   "metadata": {},
   "outputs": [
    {
     "data": {
      "text/plain": [
       "我"
      ]
     },
     "metadata": {},
     "output_type": "display_data"
    }
   ],
   "source": [
    "putStrLn [chr 25105]"
   ]
  },
  {
   "cell_type": "code",
   "execution_count": 9,
   "metadata": {},
   "outputs": [],
   "source": [
    "import System.Random"
   ]
  },
  {
   "cell_type": "code",
   "execution_count": 10,
   "metadata": {},
   "outputs": [
    {
     "data": {
      "text/plain": [
       "0"
      ]
     },
     "metadata": {},
     "output_type": "display_data"
    }
   ],
   "source": [
    "-- generate 0 or 1\n",
    "randomRIO (0, 1)"
   ]
  },
  {
   "cell_type": "code",
   "execution_count": 11,
   "metadata": {},
   "outputs": [
    {
     "data": {
      "text/plain": [
       "30575"
      ]
     },
     "metadata": {},
     "output_type": "display_data"
    }
   ],
   "source": [
    "randomRIO (0x4e00, 0x9fff)"
   ]
  },
  {
   "cell_type": "code",
   "execution_count": 12,
   "metadata": {},
   "outputs": [],
   "source": [
    "import Control.Monad"
   ]
  },
  {
   "cell_type": "code",
   "execution_count": 13,
   "metadata": {},
   "outputs": [
    {
     "data": {
      "text/plain": [
       "泊"
      ]
     },
     "metadata": {},
     "output_type": "display_data"
    }
   ],
   "source": [
    "(: []) . chr <$> randomRIO (0x4e00, 0x9fff) >>= putStrLn"
   ]
  },
  {
   "cell_type": "code",
   "execution_count": 14,
   "metadata": {},
   "outputs": [
    {
     "data": {
      "text/plain": [
       "啽"
      ]
     },
     "metadata": {},
     "output_type": "display_data"
    }
   ],
   "source": [
    "do\n",
    "  ord <- randomRIO (0x4e00, 0x9fff)\n",
    "  let hanzi = (: []) $ chr ord\n",
    "  putStrLn hanzi"
   ]
  },
  {
   "cell_type": "code",
   "execution_count": 15,
   "metadata": {},
   "outputs": [],
   "source": [
    "-- Would be easier to write this using a range, e.g. [1..n]\n",
    "doN :: Int -> (() -> a) -> [a]\n",
    "doN = aux []\n",
    "  -- use helper function to make tail recursive\n",
    "  where aux acc 0 _fn = acc\n",
    "        aux acc n fn = aux (fn () : acc) (n - 1) fn"
   ]
  },
  {
   "cell_type": "code",
   "execution_count": 16,
   "metadata": {},
   "outputs": [
    {
     "data": {
      "text/plain": [
       "[8,8,8,8,8]"
      ]
     },
     "metadata": {},
     "output_type": "display_data"
    }
   ],
   "source": [
    "doN 5 (const 8)"
   ]
  },
  {
   "cell_type": "code",
   "execution_count": 94,
   "metadata": {},
   "outputs": [],
   "source": [
    "randomHanzi :: Int -> IO String\n",
    "-- randomHanzi n = sequenceA $ doN n randomChar \n",
    "--   where randomChar () = chr <$> randomRIO (0x4e00, 0x9fff)\n",
    "randomHanzi n = forM [1..n] $ \\_ -> chr <$> randomRIO (0x4e00, 0x9fff)"
   ]
  },
  {
   "cell_type": "code",
   "execution_count": 92,
   "metadata": {},
   "outputs": [
    {
     "data": {
      "text/plain": [
       "猿簏靶嘕娱齵顆蜾忠跘"
      ]
     },
     "metadata": {},
     "output_type": "display_data"
    }
   ],
   "source": [
    "randomHanzi 10 >>= putStrLn"
   ]
  },
  {
   "cell_type": "code",
   "execution_count": 96,
   "metadata": {},
   "outputs": [
    {
     "data": {
      "text/plain": [
       "昹 | 蛬 | 祏 | 匜 | 瞜 | 苾 | 籊 | 躦 |"
      ]
     },
     "metadata": {},
     "output_type": "display_data"
    }
   ],
   "source": [
    "do \n",
    "  s <- randomHanzi 8\n",
    "  forM_ s $ \\c -> putStr $ c : \" | \""
   ]
  },
  {
   "cell_type": "code",
   "execution_count": 207,
   "metadata": {},
   "outputs": [
    {
     "data": {},
     "metadata": {},
     "output_type": "display_data"
    },
    {
     "data": {
      "text/html": [
       "<style>/* Styles used for the Hoogle display in the pager */\n",
       ".hoogle-doc {\n",
       "display: block;\n",
       "padding-bottom: 1.3em;\n",
       "padding-left: 0.4em;\n",
       "}\n",
       ".hoogle-code {\n",
       "display: block;\n",
       "font-family: monospace;\n",
       "white-space: pre;\n",
       "}\n",
       ".hoogle-text {\n",
       "display: block;\n",
       "}\n",
       ".hoogle-name {\n",
       "color: green;\n",
       "font-weight: bold;\n",
       "}\n",
       ".hoogle-head {\n",
       "font-weight: bold;\n",
       "}\n",
       ".hoogle-sub {\n",
       "display: block;\n",
       "margin-left: 0.4em;\n",
       "}\n",
       ".hoogle-package {\n",
       "font-weight: bold;\n",
       "font-style: italic;\n",
       "}\n",
       ".hoogle-module {\n",
       "font-weight: bold;\n",
       "}\n",
       ".hoogle-class {\n",
       "font-weight: bold;\n",
       "}\n",
       ".get-type {\n",
       "color: green;\n",
       "font-weight: bold;\n",
       "font-family: monospace;\n",
       "display: block;\n",
       "white-space: pre-wrap;\n",
       "}\n",
       ".show-type {\n",
       "color: green;\n",
       "font-weight: bold;\n",
       "font-family: monospace;\n",
       "margin-left: 1em;\n",
       "}\n",
       ".mono {\n",
       "font-family: monospace;\n",
       "display: block;\n",
       "}\n",
       ".err-msg {\n",
       "color: red;\n",
       "font-style: italic;\n",
       "font-family: monospace;\n",
       "white-space: pre;\n",
       "display: block;\n",
       "}\n",
       "#unshowable {\n",
       "color: red;\n",
       "font-weight: bold;\n",
       "}\n",
       ".err-msg.in.collapse {\n",
       "padding-top: 0.7em;\n",
       "}\n",
       ".highlight-code {\n",
       "white-space: pre;\n",
       "font-family: monospace;\n",
       "}\n",
       ".suggestion-warning { \n",
       "font-weight: bold;\n",
       "color: rgb(200, 130, 0);\n",
       "}\n",
       ".suggestion-error { \n",
       "font-weight: bold;\n",
       "color: red;\n",
       "}\n",
       ".suggestion-name {\n",
       "font-weight: bold;\n",
       "}\n",
       "</style><span style='font-size: 48px; color: red'>孧</span><span style='font-size: 36px; color: green'>苒</span><span style='font-size: 48px; color: blue'>旆</span><span style='font-size: 36px; color: red'>砭</span><span style='font-size: 48px; color: green'>欃</span><span style='font-size: 36px; color: blue'>唎</span><span style='font-size: 48px; color: red'>鈵</span><span style='font-size: 36px; color: green'>鍁</span><span style='font-size: 48px; color: blue'>顏</span><span style='font-size: 36px; color: red'>峘</span>"
      ]
     },
     "metadata": {},
     "output_type": "display_data"
    }
   ],
   "source": [
    "-- Print multicolored hanzi with different font sizes\n",
    "import IHaskell.Display\n",
    "import Text.Printf\n",
    "\n",
    "do \n",
    "  s <- randomHanzi 10\n",
    "  let fontSize i | i `mod` 2 == 0 = 48\n",
    "                 | otherwise = 36\n",
    "  let textColor i = case i `mod` 3 of\n",
    "                    0 -> \"red\"\n",
    "                    1 -> \"green\"\n",
    "                    2 -> \"blue\"\n",
    "  -- how do I split this into two lines?\n",
    "  let span i = printf \"<span style='font-size: %dpx; color: %s'>%c</span>\" (fontSize i) (textColor i)\n",
    "  let spans = zipWith span [0..] s\n",
    "  printDisplay $ html $ concat spans"
   ]
  },
  {
   "cell_type": "code",
   "execution_count": 21,
   "metadata": {},
   "outputs": [],
   "source": [
    "import Data.Array.IArray"
   ]
  },
  {
   "cell_type": "code",
   "execution_count": 139,
   "metadata": {},
   "outputs": [
    {
     "data": {
      "text/plain": [
       "array (0,3) [(0,1),(1,2),(2,3),(3,4)]"
      ]
     },
     "metadata": {},
     "output_type": "display_data"
    },
    {
     "data": {
      "text/plain": [
       "(0,3)"
      ]
     },
     "metadata": {},
     "output_type": "display_data"
    },
    {
     "data": {
      "text/plain": [
       "3"
      ]
     },
     "metadata": {},
     "output_type": "display_data"
    },
    {
     "data": {
      "text/plain": [
       "array (0,3) [(0,111),(1,2),(2,3),(3,444)]"
      ]
     },
     "metadata": {},
     "output_type": "display_data"
    },
    {
     "data": {
      "text/plain": [
       "array (0,3) [(0,4),(1,2),(2,3),(3,1)]"
      ]
     },
     "metadata": {},
     "output_type": "display_data"
    }
   ],
   "source": [
    "-- type annotation is necessary in order for print to succeed, otherwise you\n",
    "-- get a type error complaining about an ambiguous type variable\n",
    "arr :: Array Int Int\n",
    "arr = listArray (0, 3) [1,2,3,4]\n",
    "\n",
    "print arr\n",
    "bounds arr\n",
    "arr ! 2\n",
    "arr // [(0, 111), (3, 444)]\n",
    "arr // [(0, arr ! 3), (3, arr ! 0)]  -- swap elements"
   ]
  },
  {
   "cell_type": "code",
   "execution_count": 148,
   "metadata": {},
   "outputs": [],
   "source": [
    "listArray' :: [a] -> Array Int a\n",
    "listArray' l = listArray (0, length l - 1) l\n",
    "\n",
    "colors :: [String]\n",
    "colors = [\"red\", \"orange\", \"yellow\", \"green\", \"blue\", \"indigo\", \"violet\"]\n",
    "\n",
    "colors' :: Array Int String\n",
    "colors' = listArray' colors\n",
    "\n",
    "choice :: Array Int e -> IO e\n",
    "choice arr = do\n",
    "  i <- randomRIO $ bounds arr\n",
    "  return $ arr ! i\n",
    "\n",
    "randomColor :: () -> IO String\n",
    "randomColor () = choice colors'\n",
    "\n",
    "randomColors :: Int -> IO [String]\n",
    "randomColors n = forM [1..n] $ \\_ -> randomColor ()"
   ]
  },
  {
   "cell_type": "code",
   "execution_count": 75,
   "metadata": {},
   "outputs": [
    {
     "data": {
      "text/plain": [
       "[\"red\",\"blue\",\"indigo\",\"indigo\",\"blue\",\"blue\",\"violet\",\"violet\"]"
      ]
     },
     "metadata": {},
     "output_type": "display_data"
    }
   ],
   "source": [
    "do\n",
    "  colors <- randomColors 8\n",
    "  print colors"
   ]
  },
  {
   "cell_type": "code",
   "execution_count": 167,
   "metadata": {},
   "outputs": [
    {
     "data": {},
     "metadata": {},
     "output_type": "display_data"
    },
    {
     "data": {
      "text/html": [
       "<style>/* Styles used for the Hoogle display in the pager */\n",
       ".hoogle-doc {\n",
       "display: block;\n",
       "padding-bottom: 1.3em;\n",
       "padding-left: 0.4em;\n",
       "}\n",
       ".hoogle-code {\n",
       "display: block;\n",
       "font-family: monospace;\n",
       "white-space: pre;\n",
       "}\n",
       ".hoogle-text {\n",
       "display: block;\n",
       "}\n",
       ".hoogle-name {\n",
       "color: green;\n",
       "font-weight: bold;\n",
       "}\n",
       ".hoogle-head {\n",
       "font-weight: bold;\n",
       "}\n",
       ".hoogle-sub {\n",
       "display: block;\n",
       "margin-left: 0.4em;\n",
       "}\n",
       ".hoogle-package {\n",
       "font-weight: bold;\n",
       "font-style: italic;\n",
       "}\n",
       ".hoogle-module {\n",
       "font-weight: bold;\n",
       "}\n",
       ".hoogle-class {\n",
       "font-weight: bold;\n",
       "}\n",
       ".get-type {\n",
       "color: green;\n",
       "font-weight: bold;\n",
       "font-family: monospace;\n",
       "display: block;\n",
       "white-space: pre-wrap;\n",
       "}\n",
       ".show-type {\n",
       "color: green;\n",
       "font-weight: bold;\n",
       "font-family: monospace;\n",
       "margin-left: 1em;\n",
       "}\n",
       ".mono {\n",
       "font-family: monospace;\n",
       "display: block;\n",
       "}\n",
       ".err-msg {\n",
       "color: red;\n",
       "font-style: italic;\n",
       "font-family: monospace;\n",
       "white-space: pre;\n",
       "display: block;\n",
       "}\n",
       "#unshowable {\n",
       "color: red;\n",
       "font-weight: bold;\n",
       "}\n",
       ".err-msg.in.collapse {\n",
       "padding-top: 0.7em;\n",
       "}\n",
       ".highlight-code {\n",
       "white-space: pre;\n",
       "font-family: monospace;\n",
       "}\n",
       ".suggestion-warning { \n",
       "font-weight: bold;\n",
       "color: rgb(200, 130, 0);\n",
       "}\n",
       ".suggestion-error { \n",
       "font-weight: bold;\n",
       "color: red;\n",
       "}\n",
       ".suggestion-name {\n",
       "font-weight: bold;\n",
       "}\n",
       "</style><div style='font-size: 60px; -webkit-text-stroke: 1px gray'><span style='color: blue'>杆</span><span style='color: red'>逓</span><span style='color: orange'>夼</span><span style='color: blue'>魭</span><span style='color: yellow'>龈</span><span style='color: yellow'>齞</span><span style='color: green'>闵</span><span style='color: indigo'>嘘</span></div>"
      ]
     },
     "metadata": {},
     "output_type": "display_data"
    }
   ],
   "source": [
    "-- Print hanzi with random colors\n",
    "do\n",
    "  let n = 8\n",
    "  hanzis <- randomHanzi n\n",
    "  colors <- randomColors n\n",
    "  \n",
    "  let span color hanzi = printf \"<span style='color: %s'>%s</span>\" color [hanzi]\n",
    "  let spans = zipWith span colors hanzis\n",
    "  let div = printf \"<div style='font-size: 60px; -webkit-text-stroke: 1px gray'>%s</div>\" (concat spans :: String)\n",
    "  printDisplay $ html div"
   ]
  },
  {
   "cell_type": "code",
   "execution_count": 214,
   "metadata": {},
   "outputs": [
    {
     "data": {
      "text/plain": [
       "[\"indigo\",\"green\",\"orange\",\"blue\",\"violet\",\"red\",\"yellow\",\"indigo\",\"green\",\"orange\",\"blue\",\"violet\",\"red\",\"yellow\",\"indigo\",\"green\",\"orange\",\"blue\",\"violet\",\"red\"]"
      ]
     },
     "metadata": {},
     "output_type": "display_data"
    },
    {
     "data": {
      "text/plain": [
       "[\"red\",\"violet\",\"orange\",\"green\",\"yellow\",\"indigo\",\"blue\",\"red\",\"violet\",\"orange\",\"green\",\"yellow\",\"indigo\",\"blue\",\"red\",\"violet\",\"orange\",\"green\",\"yellow\",\"indigo\"]"
      ]
     },
     "metadata": {},
     "output_type": "display_data"
    }
   ],
   "source": [
    "shuffle :: Array Int e -> IO (Array Int e)\n",
    "shuffle arr = shuffle' arr firstIndex\n",
    "  where (firstIndex, lastIndex) = bounds arr\n",
    "        shuffle' arr step \n",
    "          | step >= lastIndex = return arr\n",
    "          | otherwise = do            \n",
    "            index <- randomRIO (step, snd $ bounds arr)\n",
    "            let arr' = arr // [(step, arr ! index), (index, arr ! step)]\n",
    "            shuffle' arr' (step + 1)\n",
    "\n",
    "shuffledColors :: Int -> IO [String]\n",
    "shuffledColors n = take n . cycle . elems <$> shuffle colors'\n",
    "\n",
    "shuffledColors 20\n",
    "shuffledColors 20"
   ]
  },
  {
   "cell_type": "code",
   "execution_count": 137,
   "metadata": {},
   "outputs": [
    {
     "data": {
      "text/plain": [
       "\"one\""
      ]
     },
     "metadata": {},
     "output_type": "display_data"
    },
    {
     "data": {
      "text/plain": [
       "\"two\""
      ]
     },
     "metadata": {},
     "output_type": "display_data"
    },
    {
     "data": {
      "text/plain": [
       "\"otherwise another string is returned\""
      ]
     },
     "metadata": {},
     "output_type": "display_data"
    }
   ],
   "source": [
    "-- indentation when using guards\n",
    "coolFn :: Int -> String\n",
    "coolFn x \n",
    "  | x == 1 = \"one\"\n",
    "  | x == 2 = \"two\"\n",
    "  | x > 2 = \n",
    "    \"otherwise another string is returned\"\n",
    "      \n",
    "coolFn 1\n",
    "coolFn 2\n",
    "coolFn 3"
   ]
  },
  {
   "cell_type": "code",
   "execution_count": 178,
   "metadata": {},
   "outputs": [
    {
     "data": {
      "text/plain": [
       "[1,2,3,1,2,3,1,2]"
      ]
     },
     "metadata": {},
     "output_type": "display_data"
    }
   ],
   "source": [
    "take 8 $ cycle [1,2,3]"
   ]
  },
  {
   "cell_type": "code",
   "execution_count": 215,
   "metadata": {},
   "outputs": [
    {
     "data": {},
     "metadata": {},
     "output_type": "display_data"
    },
    {
     "data": {
      "text/html": [
       "<style>/* Styles used for the Hoogle display in the pager */\n",
       ".hoogle-doc {\n",
       "display: block;\n",
       "padding-bottom: 1.3em;\n",
       "padding-left: 0.4em;\n",
       "}\n",
       ".hoogle-code {\n",
       "display: block;\n",
       "font-family: monospace;\n",
       "white-space: pre;\n",
       "}\n",
       ".hoogle-text {\n",
       "display: block;\n",
       "}\n",
       ".hoogle-name {\n",
       "color: green;\n",
       "font-weight: bold;\n",
       "}\n",
       ".hoogle-head {\n",
       "font-weight: bold;\n",
       "}\n",
       ".hoogle-sub {\n",
       "display: block;\n",
       "margin-left: 0.4em;\n",
       "}\n",
       ".hoogle-package {\n",
       "font-weight: bold;\n",
       "font-style: italic;\n",
       "}\n",
       ".hoogle-module {\n",
       "font-weight: bold;\n",
       "}\n",
       ".hoogle-class {\n",
       "font-weight: bold;\n",
       "}\n",
       ".get-type {\n",
       "color: green;\n",
       "font-weight: bold;\n",
       "font-family: monospace;\n",
       "display: block;\n",
       "white-space: pre-wrap;\n",
       "}\n",
       ".show-type {\n",
       "color: green;\n",
       "font-weight: bold;\n",
       "font-family: monospace;\n",
       "margin-left: 1em;\n",
       "}\n",
       ".mono {\n",
       "font-family: monospace;\n",
       "display: block;\n",
       "}\n",
       ".err-msg {\n",
       "color: red;\n",
       "font-style: italic;\n",
       "font-family: monospace;\n",
       "white-space: pre;\n",
       "display: block;\n",
       "}\n",
       "#unshowable {\n",
       "color: red;\n",
       "font-weight: bold;\n",
       "}\n",
       ".err-msg.in.collapse {\n",
       "padding-top: 0.7em;\n",
       "}\n",
       ".highlight-code {\n",
       "white-space: pre;\n",
       "font-family: monospace;\n",
       "}\n",
       ".suggestion-warning { \n",
       "font-weight: bold;\n",
       "color: rgb(200, 130, 0);\n",
       "}\n",
       ".suggestion-error { \n",
       "font-weight: bold;\n",
       "color: red;\n",
       "}\n",
       ".suggestion-name {\n",
       "font-weight: bold;\n",
       "}\n",
       "</style><div style='font-size: 48px; -webkit-text-stroke: 1px gray'><span style='color: violet'>艺</span><span style='color: yellow'>矩</span><span style='color: green'>禥</span><span style='color: red'>贎</span><span style='color: blue'>嚠</span><span style='color: orange'>眷</span><span style='color: indigo'>硎</span><span style='color: violet'>嬪</span><span style='color: yellow'>詋</span><span style='color: green'>駜</span><span style='color: red'>酣</span><span style='color: blue'>虿</span><span style='color: orange'>礊</span><span style='color: indigo'>烱</span><span style='color: violet'>哪</span><span style='color: yellow'>塎</span><span style='color: green'>弱</span><span style='color: red'>吹</span><span style='color: blue'>湁</span><span style='color: orange'>灄</span></div>"
      ]
     },
     "metadata": {},
     "output_type": "display_data"
    }
   ],
   "source": [
    "-- Print hanzi with shuffled colors\n",
    "do\n",
    "  let n = 20\n",
    "  hanzis <- randomHanzi n\n",
    "  colors <- shuffledColors n\n",
    "  \n",
    "  let span color hanzi = printf \"<span style='color: %s'>%s</span>\" color [hanzi]\n",
    "  let spans = zipWith span colors hanzis\n",
    "  let div = printf \"<div style='font-size: 48px; -webkit-text-stroke: 1px gray'>%s</div>\" (concat spans :: String)\n",
    "  printDisplay $ html div"
   ]
  }
 ],
 "metadata": {
  "kernelspec": {
   "display_name": "Haskell",
   "language": "haskell",
   "name": "haskell"
  },
  "language_info": {
   "codemirror_mode": "ihaskell",
   "file_extension": ".hs",
   "name": "haskell",
   "pygments_lexer": "Haskell",
   "version": "8.6.5"
  }
 },
 "nbformat": 4,
 "nbformat_minor": 4
}
